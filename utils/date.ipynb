{
 "cells": [
  {
   "cell_type": "code",
   "execution_count": 1,
   "metadata": {},
   "outputs": [],
   "source": [
    "from datetime import datetime,timedelta\n",
    "\n",
    "def get_date_range(begin_date, end_date):    \n",
    "    date_list = []\n",
    "    while begin_date <= end_date:\n",
    "        date_list.append(begin_date)\n",
    "        begin_date_obj = datetime.strptime(begin_date,'%Y-%m-%d')\n",
    "        time_delta = timedelta(days=1)\n",
    "        begin_date = (begin_date_obj + time_delta).strftime('%Y-%m-%d')\n",
    "    \n",
    "    return date_list\n",
    "    "
   ]
  },
  {
   "cell_type": "code",
   "execution_count": 5,
   "metadata": {},
   "outputs": [
    {
     "data": {
      "text/plain": [
       "[]"
      ]
     },
     "execution_count": 5,
     "metadata": {},
     "output_type": "execute_result"
    }
   ],
   "source": [
    "date_list = get_date_range('2022-02-21','2021-03-02')"
   ]
  }
 ],
 "metadata": {
  "kernelspec": {
   "display_name": "Python 3",
   "language": "python",
   "name": "python3"
  },
  "language_info": {
   "codemirror_mode": {
    "name": "ipython",
    "version": 3
   },
   "file_extension": ".py",
   "mimetype": "text/x-python",
   "name": "python",
   "nbconvert_exporter": "python",
   "pygments_lexer": "ipython3",
   "version": "3.8.5"
  }
 },
 "nbformat": 4,
 "nbformat_minor": 4
}
